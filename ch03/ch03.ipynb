{
  "nbformat": 4,
  "nbformat_minor": 0,
  "metadata": {
    "colab": {
      "provenance": [],
      "gpuType": "T4",
      "authorship_tag": "ABX9TyO9MZhGs8h94xgXQDOlvr07",
      "include_colab_link": true
    },
    "kernelspec": {
      "name": "python3",
      "display_name": "Python 3"
    },
    "language_info": {
      "name": "python"
    },
    "accelerator": "GPU"
  },
  "cells": [
    {
      "cell_type": "markdown",
      "metadata": {
        "id": "view-in-github",
        "colab_type": "text"
      },
      "source": [
        "<a href=\"https://colab.research.google.com/github/ziwon/learning-cuda/blob/main/ch03/ch03.ipynb\" target=\"_parent\"><img src=\"https://colab.research.google.com/assets/colab-badge.svg\" alt=\"Open In Colab\"/></a>"
      ]
    },
    {
      "cell_type": "code",
      "execution_count": 1,
      "metadata": {
        "colab": {
          "base_uri": "https://localhost:8080/"
        },
        "id": "ZQ8cs0m8pS1g",
        "outputId": "55d786ee-3e05-4e2c-db68-b1e631028e43"
      },
      "outputs": [
        {
          "output_type": "stream",
          "name": "stdout",
          "text": [
            "nvcc: NVIDIA (R) Cuda compiler driver\n",
            "Copyright (c) 2005-2023 NVIDIA Corporation\n",
            "Built on Tue_Aug_15_22:02:13_PDT_2023\n",
            "Cuda compilation tools, release 12.2, V12.2.140\n",
            "Build cuda_12.2.r12.2/compiler.33191640_0\n"
          ]
        }
      ],
      "source": [
        "!nvcc --version"
      ]
    },
    {
      "cell_type": "code",
      "source": [
        "import torch\n",
        "print(torch.cuda.is_available())"
      ],
      "metadata": {
        "colab": {
          "base_uri": "https://localhost:8080/"
        },
        "id": "is_3wIynqB6g",
        "outputId": "f29d88e6-fb97-4750-c38f-6faef0d6fc6a"
      },
      "execution_count": 2,
      "outputs": [
        {
          "output_type": "stream",
          "name": "stdout",
          "text": [
            "True\n"
          ]
        }
      ]
    },
    {
      "cell_type": "code",
      "source": [
        "!lsb_release -a"
      ],
      "metadata": {
        "colab": {
          "base_uri": "https://localhost:8080/"
        },
        "id": "Laha65ESqSTA",
        "outputId": "d6753463-7e11-4955-e3a3-5ad622637417"
      },
      "execution_count": 3,
      "outputs": [
        {
          "output_type": "stream",
          "name": "stdout",
          "text": [
            "No LSB modules are available.\n",
            "Distributor ID:\tUbuntu\n",
            "Description:\tUbuntu 22.04.3 LTS\n",
            "Release:\t22.04\n",
            "Codename:\tjammy\n"
          ]
        }
      ]
    },
    {
      "cell_type": "code",
      "source": [
        "!nvidia-smi"
      ],
      "metadata": {
        "colab": {
          "base_uri": "https://localhost:8080/"
        },
        "id": "QL3cwa34q56V",
        "outputId": "f179940a-0371-4b8b-c1ca-38398a6bd2b3"
      },
      "execution_count": 4,
      "outputs": [
        {
          "output_type": "stream",
          "name": "stdout",
          "text": [
            "Sun Mar 10 13:29:35 2024       \n",
            "+---------------------------------------------------------------------------------------+\n",
            "| NVIDIA-SMI 535.104.05             Driver Version: 535.104.05   CUDA Version: 12.2     |\n",
            "|-----------------------------------------+----------------------+----------------------+\n",
            "| GPU  Name                 Persistence-M | Bus-Id        Disp.A | Volatile Uncorr. ECC |\n",
            "| Fan  Temp   Perf          Pwr:Usage/Cap |         Memory-Usage | GPU-Util  Compute M. |\n",
            "|                                         |                      |               MIG M. |\n",
            "|=========================================+======================+======================|\n",
            "|   0  Tesla T4                       Off | 00000000:00:04.0 Off |                    0 |\n",
            "| N/A   36C    P8              10W /  70W |      3MiB / 15360MiB |      0%      Default |\n",
            "|                                         |                      |                  N/A |\n",
            "+-----------------------------------------+----------------------+----------------------+\n",
            "                                                                                         \n",
            "+---------------------------------------------------------------------------------------+\n",
            "| Processes:                                                                            |\n",
            "|  GPU   GI   CI        PID   Type   Process name                            GPU Memory |\n",
            "|        ID   ID                                                             Usage      |\n",
            "|=======================================================================================|\n",
            "|  No running processes found                                                           |\n",
            "+---------------------------------------------------------------------------------------+\n"
          ]
        }
      ]
    },
    {
      "cell_type": "code",
      "source": [
        "!nvidia-smi --query-gpu=index,name --format=csv,noheader"
      ],
      "metadata": {
        "id": "O5lBPjnKjUCC",
        "outputId": "4b4914e3-6b6a-4905-ff8f-ed343c615cba",
        "colab": {
          "base_uri": "https://localhost:8080/"
        }
      },
      "execution_count": 5,
      "outputs": [
        {
          "output_type": "stream",
          "name": "stdout",
          "text": [
            "0, Tesla T4\n"
          ]
        }
      ]
    },
    {
      "cell_type": "code",
      "source": [
        "!nvidia-smi --query-gpu=gpu_name,gpu_bus_id,driver_version,pstate --format=csv"
      ],
      "metadata": {
        "id": "AT1Uam6ijItR",
        "outputId": "53c048ce-a885-46b7-f217-f1da59fabf98",
        "colab": {
          "base_uri": "https://localhost:8080/"
        }
      },
      "execution_count": 6,
      "outputs": [
        {
          "output_type": "stream",
          "name": "stdout",
          "text": [
            "name, pci.bus_id, driver_version, pstate\n",
            "Tesla T4, 00000000:00:04.0, 535.104.05, P8\n"
          ]
        }
      ]
    },
    {
      "cell_type": "code",
      "source": [
        "!pip install git+https://github.com/andreinechaev/nvcc4jupyter.git"
      ],
      "metadata": {
        "colab": {
          "base_uri": "https://localhost:8080/"
        },
        "id": "2LjqG42cgdQQ",
        "outputId": "0b9eaed1-38a2-4721-c4f8-3dec7907840b"
      },
      "execution_count": 7,
      "outputs": [
        {
          "output_type": "stream",
          "name": "stdout",
          "text": [
            "Collecting git+https://github.com/andreinechaev/nvcc4jupyter.git\n",
            "  Cloning https://github.com/andreinechaev/nvcc4jupyter.git to /tmp/pip-req-build-fekwkdy9\n",
            "  Running command git clone --filter=blob:none --quiet https://github.com/andreinechaev/nvcc4jupyter.git /tmp/pip-req-build-fekwkdy9\n",
            "  Resolved https://github.com/andreinechaev/nvcc4jupyter.git to commit 781ff5b76ba6c4c2d80dcbbec9983e147613cc71\n",
            "  Installing build dependencies ... \u001b[?25l\u001b[?25hdone\n",
            "  Getting requirements to build wheel ... \u001b[?25l\u001b[?25hdone\n",
            "  Preparing metadata (pyproject.toml) ... \u001b[?25l\u001b[?25hdone\n"
          ]
        }
      ]
    },
    {
      "cell_type": "code",
      "source": [
        "%load_ext nvcc4jupyter"
      ],
      "metadata": {
        "colab": {
          "base_uri": "https://localhost:8080/"
        },
        "id": "nGgRiHHathXM",
        "outputId": "ec02006f-ca10-45a7-c4fa-32e2133d595d"
      },
      "execution_count": 8,
      "outputs": [
        {
          "output_type": "stream",
          "name": "stdout",
          "text": [
            "Source files will be saved in \"/tmp/tmp_kq2snfo\".\n"
          ]
        }
      ]
    },
    {
      "cell_type": "code",
      "source": [
        "%%cuda\n",
        "#include<stdio.h>\n",
        "__global__ void hello(void)\n",
        "{\n",
        "    printf(\"GPU: Hello!\\n\");\n",
        "}\n",
        "int main(int argc,char **argv)\n",
        "{\n",
        "    printf(\"CPU: Hello!\\n\");\n",
        "    hello<<<1,10>>>();\n",
        "    cudaDeviceReset();\n",
        "    return 0;\n",
        "}"
      ],
      "metadata": {
        "colab": {
          "base_uri": "https://localhost:8080/"
        },
        "id": "0i2r8rNnp1Gq",
        "outputId": "9f1ad856-d674-4e32-d050-b5a118ccaa74"
      },
      "execution_count": 9,
      "outputs": [
        {
          "output_type": "stream",
          "name": "stdout",
          "text": [
            "CPU: Hello!\n",
            "GPU: Hello!\n",
            "GPU: Hello!\n",
            "GPU: Hello!\n",
            "GPU: Hello!\n",
            "GPU: Hello!\n",
            "GPU: Hello!\n",
            "GPU: Hello!\n",
            "GPU: Hello!\n",
            "GPU: Hello!\n",
            "GPU: Hello!\n",
            "\n"
          ]
        }
      ]
    },
    {
      "cell_type": "code",
      "source": [
        "%%cuda\n",
        "#include \"cuda_runtime.h\"\n",
        "#include \"device_launch_parameters.h\"\n",
        "#include <stdio.h>\n",
        "\n",
        "void checkDeviceMemory(void) {\n",
        "    size_t free, total;\n",
        "    cudaMemGetInfo(&free, &total);\n",
        "    printf(\"Device memory (free/total) = %lld/%lld bytes\\n\", free, total);\n",
        "}\n",
        "\n",
        "int main(void) {\n",
        "    int *dDataPtr;\n",
        "    cudaError_t errorCode;\n",
        "\n",
        "    checkDeviceMemory();\n",
        "    errorCode = cudaMalloc(&dDataPtr, sizeof(int) * 1024 * 1024 * 1024 * 12);\n",
        "    printf(\"cudaMalloc - %s\\n\", cudaGetErrorName(errorCode));\n",
        "    checkDeviceMemory();\n",
        "\n",
        "    errorCode = cudaMemset(dDataPtr, 0, sizeof(int) * 1024 * 1024);\n",
        "    printf(\"cudaMemset - %s\\n\", cudaGetErrorName(errorCode));\n",
        "\n",
        "    errorCode = cudaFree(dDataPtr);\n",
        "    printf(\"cudaFree - %s\\n\", cudaGetErrorName(errorCode));\n",
        "    checkDeviceMemory();\n",
        "}"
      ],
      "metadata": {
        "id": "evKbYzeSPC7k",
        "outputId": "b512bdd0-13ea-4afb-ee42-ec690aeea371",
        "colab": {
          "base_uri": "https://localhost:8080/"
        }
      },
      "execution_count": 10,
      "outputs": [
        {
          "output_type": "stream",
          "name": "stdout",
          "text": [
            "Device memory (free/total) = 15727656960/15835660288 bytes\n",
            "cudaMalloc - cudaErrorMemoryAllocation\n",
            "Device memory (free/total) = 15727656960/15835660288 bytes\n",
            "cudaMemset - cudaErrorInvalidValue\n",
            "cudaFree - cudaSuccess\n",
            "Device memory (free/total) = 15727656960/15835660288 bytes\n",
            "\n"
          ]
        }
      ]
    },
    {
      "cell_type": "code",
      "source": [
        "!nvidia-smi nvlink --status"
      ],
      "metadata": {
        "id": "nu_-VhUEPKyP"
      },
      "execution_count": 11,
      "outputs": []
    },
    {
      "cell_type": "code",
      "source": [
        "!nvidia-smi -q -d MEMORY"
      ],
      "metadata": {
        "id": "_L-EO4x4SV5z",
        "outputId": "9aac2549-df37-4914-81b0-ab13b8be1605",
        "colab": {
          "base_uri": "https://localhost:8080/"
        }
      },
      "execution_count": 12,
      "outputs": [
        {
          "output_type": "stream",
          "name": "stdout",
          "text": [
            "\n",
            "==============NVSMI LOG==============\n",
            "\n",
            "Timestamp                                 : Sun Mar 10 13:29:51 2024\n",
            "Driver Version                            : 535.104.05\n",
            "CUDA Version                              : 12.2\n",
            "\n",
            "Attached GPUs                             : 1\n",
            "GPU 00000000:00:04.0\n",
            "    FB Memory Usage\n",
            "        Total                             : 15360 MiB\n",
            "        Reserved                          : 257 MiB\n",
            "        Used                              : 3 MiB\n",
            "        Free                              : 15099 MiB\n",
            "    BAR1 Memory Usage\n",
            "        Total                             : 256 MiB\n",
            "        Used                              : 3 MiB\n",
            "        Free                              : 253 MiB\n",
            "    Conf Compute Protected Memory Usage\n",
            "        Total                             : 0 MiB\n",
            "        Used                              : 0 MiB\n",
            "        Free                              : 0 MiB\n",
            "\n"
          ]
        }
      ]
    },
    {
      "cell_type": "code",
      "source": [
        "from IPython.core.magic import register_cell_magic\n",
        "import subprocess\n",
        "import shlex\n",
        "import os\n",
        "\n",
        "@register_cell_magic\n",
        "def cu(line: str, cell: str) -> None:\n",
        "    \"\"\"Jupyter Notebook cell magic to run CUDA C code.\"\"\"\n",
        "\n",
        "    source_file_name = 'temp.cu'\n",
        "    executable_name = 'temp.out'\n",
        "\n",
        "    with open(source_file_name, 'w') as f:\n",
        "        f.write(cell)\n",
        "\n",
        "    print(\"---------------------------------------\")\n",
        "    executable_file_path = os.path.abspath(executable_name)\n",
        "    print(\"Path:\", executable_file_path)\n",
        "\n",
        "    compile_command = f\"nvcc {source_file_name} -o {executable_name}\"\n",
        "    subprocess.run(shlex.split(compile_command), check=True)\n",
        "\n",
        "    run_command = f\"./{executable_name}\"\n",
        "    result = subprocess.run(shlex.split(run_command), text=True, capture_output=True)\n",
        "    print(result.stdout)\n",
        "\n",
        "    os.remove(source_file_name)\n",
        "    os.remove(executable_name)"
      ],
      "metadata": {
        "id": "LlbOKKbMS1QV"
      },
      "execution_count": 13,
      "outputs": []
    },
    {
      "cell_type": "code",
      "source": [
        "%%cu\n",
        "\n",
        "#include \"cuda_runtime.h\"\n",
        "#include \"device_launch_parameters.h\"\n",
        "#include <stdio.h>\n",
        "\n",
        "__global__ void printData(int* _dDataPtr) {\n",
        "    printf(\"%d\", _dDataPtr[threadIdx.x]);\n",
        "}\n",
        "\n",
        "__global__ void setData(int* _dDataPtr) {\n",
        "    _dDataPtr[threadIdx.x] = 2;\n",
        "}\n",
        "\n",
        "int main(void) {\n",
        "    int  data[10] = { 0 }; // 호스트 메모리 영역\n",
        "    for (int i = 0; i < 10; i++) data[i] = 1;\n",
        "\n",
        "    int* dDataPtr; // 디바이스 메모리 영역\n",
        "    cudaMalloc(&dDataPtr, sizeof(int) * 10);\n",
        "    cudaMemset(dDataPtr, 0, sizeof(int) * 10);\n",
        "\n",
        "    printf(\"Data in device: \");\n",
        "    printData <<<1, 10>>> (dDataPtr);\n",
        "\n",
        "    cudaMemcpy(dDataPtr, data, sizeof(int) * 10, cudaMemcpyHostToDevice);\n",
        "    printf(\"\\nHost -> Device: \");\n",
        "    printData <<<1, 10>>> (dDataPtr);\n",
        "\n",
        "    setData <<<1, 10>>> (dDataPtr);\n",
        "    cudaMemcpy(data, dDataPtr, sizeof(int) * 10, cudaMemcpyDeviceToHost);\n",
        "    printf(\"\\nDevice -> Host: \");\n",
        "    for (int i = 0; i < 10; i++) printf(\"%d\", data[i]);\n",
        "\n",
        "    cudaFree(dDataPtr);\n",
        "}"
      ],
      "metadata": {
        "id": "ovKeZVblTgbN",
        "outputId": "77a444c3-6772-44cd-9070-ded6d41c866b",
        "colab": {
          "base_uri": "https://localhost:8080/"
        }
      },
      "execution_count": 14,
      "outputs": [
        {
          "output_type": "stream",
          "name": "stdout",
          "text": [
            "---------------------------------------\n",
            "Path: /content/temp.out\n",
            "Data in device: 0000000000\n",
            "Host -> Device: 1111111111\n",
            "Device -> Host: 2222222222\n"
          ]
        }
      ]
    },
    {
      "cell_type": "code",
      "source": [
        "%%cu\n",
        "\n",
        "#include <stdio.h>\n",
        "#include <stdlib.h>\n",
        "#include <string.h>\n",
        "\n",
        "#define NUM_DATA 1024\n",
        "\n",
        "int main(void) {\n",
        "    int* a, * b, * c;\n",
        "\n",
        "    int memSize = sizeof(int) * NUM_DATA;\n",
        "    a = new int[NUM_DATA]; memset(a, 0, memSize);\n",
        "    b = new int[NUM_DATA]; memset(b, 0, memSize);\n",
        "    c = new int[NUM_DATA]; memset(c, 0, memSize);\n",
        "\n",
        "    for (int i = 0; i < NUM_DATA; i++) {\n",
        "        a[i] = rand() % 10;\n",
        "        b[i] = rand() % 10;\n",
        "\n",
        "    }\n",
        "\n",
        "    for (int i = 0; i < NUM_DATA; i++)\n",
        "      c[i] = a[i] + b[i];\n",
        "\n",
        "    delete[] a; delete[] b; delete[] c;\n",
        "}"
      ],
      "metadata": {
        "id": "uEIXqlNQV2-w",
        "outputId": "410efaed-dc57-4959-e648-2a92ec7124eb",
        "colab": {
          "base_uri": "https://localhost:8080/"
        }
      },
      "execution_count": 15,
      "outputs": [
        {
          "output_type": "stream",
          "name": "stdout",
          "text": [
            "---------------------------------------\n",
            "Path: /content/temp.out\n",
            "\n"
          ]
        }
      ]
    },
    {
      "cell_type": "code",
      "source": [
        "%%cu\n",
        "\n",
        "#include \"cuda_runtime.h\"\n",
        "#include \"device_launch_parameters.h\"\n",
        "\n",
        "#include <stdio.h>\n",
        "#include <stdlib.h>\n",
        "#include <string.h>\n",
        "\n",
        "#define NUM_DATA 1024\n",
        "#define BLOCK_SIZE 256 // The size of Thread Block\n",
        "\n",
        "__global__ void vecAdd(int* _a, int* _b, int* _c) {\n",
        "    int tId = threadIdx.x;\n",
        "    _c[tId] = _a[tId] + _b[tId];\n",
        "}\n",
        "\n",
        "__global__ void vecAdd(int* _a, int* _b, int* _c, int n) {\n",
        "    int tId = blockIdx.x * blockDim.x + threadIdx.x;\n",
        "    if (tId < n) {\n",
        "      _c[tId] = _a[tId] + _b[tId];\n",
        "    }\n",
        "}\n",
        "\n",
        "void getWarpSize(void){\n",
        "    cudaDeviceProp prop;\n",
        "    cudaGetDeviceProperties(&prop, 0); // Assuming device 0 for simplicity\n",
        "    printf(\"Warp size: %d\\n\", prop.warpSize);\n",
        "}\n",
        "\n",
        "int main(void) {\n",
        "\n",
        "    // The warp size for NVIDIA GPUs is typically 32 threads\n",
        "    getWarpSize();\n",
        "\n",
        "    int* a, * b, * c, * hc; // Vectors on the host\n",
        "    int* da, * db, * dc; // Vectors on the device\n",
        "\n",
        "    int memSize = sizeof(int) * NUM_DATA;\n",
        "    printf(\"%d elements, memSize = %d bytes\\n\", NUM_DATA, memSize);\n",
        "\n",
        "    // Memory allocation on the host-side\n",
        "    a = new int[NUM_DATA]; memset(a, 0, memSize);\n",
        "    b = new int[NUM_DATA]; memset(b, 0, memSize);\n",
        "    c = new int[NUM_DATA]; memset(c, 0, memSize);\n",
        "    hc = new int[NUM_DATA]; memset(hc, 0, memSize);\n",
        "\n",
        "    // Data generation\n",
        "    for (int i = 0; i < NUM_DATA; i++) {\n",
        "\t\t  a[i] = rand() % 10;\n",
        "\t\t  b[i] = rand() % 10;\n",
        "\t  }\n",
        "\n",
        "    // Vector sum on host (for performance comparision)\n",
        "    for (int i = 0; i < NUM_DATA; i++)\n",
        "      hc[i] = a[i] + b[i];\n",
        "\n",
        "    // Memory allocation on the device-side\n",
        "    cudaMalloc(&da, memSize); cudaMemset(da, 0, memSize);\n",
        "    cudaMalloc(&db, memSize); cudaMemset(db, 0, memSize);\n",
        "    cudaMalloc(&dc, memSize); cudaMemset(dc, 0, memSize);\n",
        "\n",
        "    // Data copy : Host -> Device\n",
        "    cudaMemcpy(da, a, memSize, cudaMemcpyHostToDevice);\n",
        "    cudaMemcpy(db, b, memSize, cudaMemcpyHostToDevice);\n",
        "\n",
        "    // Kernel call\n",
        "    // vecAdd <<<1, NUM_DATA>>> (da, db, dc);\n",
        "    int numBlocks = (NUM_DATA + BLOCK_SIZE - 1) / BLOCK_SIZE;\n",
        "    vecAdd<<<numBlocks, BLOCK_SIZE>>>(da, db, dc, NUM_DATA);\n",
        "\n",
        "    // Copy results: device -> host\n",
        "    cudaMemcpy(c, dc, memSize, cudaMemcpyDeviceToHost);\n",
        "\n",
        "    // Release device memory\n",
        "    cudaFree(da); cudaFree(db); cudaFree(dc);\n",
        "\n",
        "    // Check results\n",
        "    bool result = true;\n",
        "    for (int i = 0; i < NUM_DATA; i++) {\n",
        "        if (hc[i] != c[i]) {\n",
        "            printf(\"[%d] The result is not matched! (%d, %d)\\n\", i, hc[i], c[i]);\n",
        "            result = false;\n",
        "        }\n",
        "    }\n",
        "\n",
        "    if (result)\n",
        "\t\t  printf(\"GPU works well!\\n\");\n",
        "\n",
        "\t  // Release host memory\n",
        "\t  delete[] a; delete[] b; delete[] c; delete[] hc;\n",
        "\n",
        "    return 0;\n",
        "}"
      ],
      "metadata": {
        "id": "Rmcy4d2FWubc",
        "outputId": "d671ea3b-0a83-457d-fb3d-4c4edb7a1eda",
        "colab": {
          "base_uri": "https://localhost:8080/"
        }
      },
      "execution_count": 16,
      "outputs": [
        {
          "output_type": "stream",
          "name": "stdout",
          "text": [
            "---------------------------------------\n",
            "Path: /content/temp.out\n",
            "Warp size: 32\n",
            "1024 elements, memSize = 4096 bytes\n",
            "GPU works well!\n",
            "\n"
          ]
        }
      ]
    },
    {
      "cell_type": "code",
      "source": [
        "!nvprof -s -o results.nvprof /content/temp.out"
      ],
      "metadata": {
        "id": "DnbaAGERchFH",
        "outputId": "65337490-2519-4957-83ce-7b52a9f6b09a",
        "colab": {
          "base_uri": "https://localhost:8080/"
        }
      },
      "execution_count": 17,
      "outputs": [
        {
          "output_type": "stream",
          "name": "stdout",
          "text": [
            "======== Error: application not found.\n"
          ]
        }
      ]
    }
  ]
}